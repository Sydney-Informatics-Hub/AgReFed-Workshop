{
 "cells": [
  {
   "cell_type": "markdown",
   "id": "934b35c0",
   "metadata": {},
   "source": [
    "# Setting up\n",
    "\n",
    "## Jupyter Hub\n",
    "\n",
    "We will be using an online \"Jupyter Hub\" python environment for the workshop. This environment contains all the required libraries and packages pre-configured and allows you to use Python \"notebooks\" on-demand.\n",
    "\n",
    "### Instructions\n",
    "\n",
    "Navigate your browser to https://jupyterhub.agrefed.cloud.edu.au. \n",
    "\n",
    "Register for account. *username*\n",
    "\n",
    "Choose any *password* ntand this will be set on first login.\n",
    "\n",
    "![login](setup01.png \"Login Window to Jupyter Hub\")\n",
    "\n",
    "In the right-hand menu, Click on *New > Python3 (ipykernel)*\n",
    "\n",
    "![launch](setup02.png \"Launch a new Python Notebook kernel\")\n",
    "\n",
    "This will launch a new python notebook. You are ready to go!"
   ]
  },
  {
   "cell_type": "markdown",
   "id": "96fa746f",
   "metadata": {},
   "source": [
    "## Optional: Local Install\n",
    "\n",
    "### Setup the Python environment\n",
    "You will need to install the dependencies for the geodata-harvester this can be done by downloading the environment file from github.\n",
    "\n",
    "```\n",
    "git clone https://github.com/Sydney-Informatics-Hub/geodata-harvester\n",
    "cd geodata-harvester\n",
    "conda env create -f environment.yaml -n gdh\n",
    "```\n",
    "\n",
    "### Install geodata-harvester\n",
    "```\n",
    "pip install geodata-harvester\n",
    "```\n",
    "\n",
    "### Import to python an go!\n",
    "```\n",
    "import geodata-harvester as dh\n",
    "\n",
    "dh.harvest.run()\n",
    "```\n"
   ]
  },
  {
   "cell_type": "code",
   "execution_count": null,
   "id": "6591b418",
   "metadata": {},
   "outputs": [],
   "source": []
  }
 ],
 "metadata": {
  "kernelspec": {
   "display_name": "Python 3 (ipykernel)",
   "language": "python",
   "name": "python3"
  },
  "language_info": {
   "codemirror_mode": {
    "name": "ipython",
    "version": 3
   },
   "file_extension": ".py",
   "mimetype": "text/x-python",
   "name": "python",
   "nbconvert_exporter": "python",
   "pygments_lexer": "ipython3",
   "version": "3.9.13"
  }
 },
 "nbformat": 4,
 "nbformat_minor": 5
}
