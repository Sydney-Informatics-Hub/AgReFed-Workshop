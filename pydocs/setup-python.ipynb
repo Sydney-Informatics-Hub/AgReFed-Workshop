{
 "cells": [
  {
   "cell_type": "markdown",
   "id": "934b35c0",
   "metadata": {},
   "source": [
    "# Setting up\n",
    "\n",
    "## Jupyter Hub\n",
    "\n",
    "We will be using an online \"Jupyter Hub\" python environment for the workshop. This environment contains all the required libraries and packages pre-configured and allows you to use Python \"notebooks\" on-demand.\n",
    "\n",
    "### Instructions\n",
    "\n",
    "Navigate your browser to https://jupyterhub.rc.nectar.org.au/ \n",
    "\n",
    "Click the *Sign in with AAF* button.\n",
    "\n",
    "![](assets/ag_01.png \"Sign in with AAF\")\n",
    "\n",
    "Go through your institutional sign-in process. \n",
    "\n",
    "> If you have no idea what AAF and your institution is not listed, let us know and we can provide an alterante account for the workshop!\n",
    "\n",
    "![](assets/ag_02.png \"AgReFed Python environment\")\n",
    "\n",
    "Select the *AgReFed Python environment* server option and then click *START*. The environment has all the dependant software required to run the Geodata Harvester, to see what is installed, see the *Local Install* section below.\n",
    "\n",
    "You should now be in a \"Jupyter Lab\" interface. Select the *Notebook > Python3 (ipykernel)* to get started!\n",
    "\n",
    "![](assets/ag_03.png \"Jupyter Hub\")"
   ]
  },
  {
   "cell_type": "markdown",
   "id": "96fa746f",
   "metadata": {},
   "source": [
    "## Optional: Local Install\n",
    "\n",
    "### Setup the Python environment\n",
    "You will need to install the dependencies for the geodata-harvester this can be done by downloading the environment file from github.\n",
    "\n",
    "```\n",
    "wget https://raw.githubusercontent.com/Sydney-Informatics-Hub/geodata-harvester/main/environment.yaml\n",
    "conda env create -f environment.yaml -n gdh\n",
    "conda activate gdh\n",
    "```\n",
    "\n",
    "### Install geodata-harvester\n",
    "```\n",
    "pip install geodata-harvester\n",
    "```\n",
    "\n",
    "### Import to python and run!\n",
    "```python\n",
    "import geodata-harvester as gh\n",
    "gh.harvest.run()\n",
    "```\n"
   ]
  }
 ],
 "metadata": {
  "kernelspec": {
   "display_name": "Python 3 (ipykernel)",
   "language": "python",
   "name": "python3"
  },
  "language_info": {
   "codemirror_mode": {
    "name": "ipython",
    "version": 3
   },
   "file_extension": ".py",
   "mimetype": "text/x-python",
   "name": "python",
   "nbconvert_exporter": "python",
   "pygments_lexer": "ipython3",
   "version": "3.9.13"
  }
 },
 "nbformat": 4,
 "nbformat_minor": 5
}
